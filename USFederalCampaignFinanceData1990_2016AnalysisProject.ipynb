{
 "cells": [
  {
   "cell_type": "markdown",
   "metadata": {},
   "source": [
    "# US Federal Campaign Finance Data 1990–2016 Analysis Project\n",
    "\n",
    "<img src=\"./images/us_election_finance.png\" align='center'>\n"
   ]
  },
  {
   "cell_type": "markdown",
   "metadata": {},
   "source": [
    "\n",
    "# <img src=\"./images/Data-Organisation.png\" align='left' width='50'> Data Source\n"
   ]
  },
  {
   "cell_type": "markdown",
   "metadata": {},
   "source": [
    "## Data Context"
   ]
  },
  {
   "cell_type": "markdown",
   "metadata": {},
   "source": [
    "> ### This includes campaign finance data for all US federal elections (including the every-2-year congressional and every-4-year presidential) from 1990 to 2016. It includes candidate data, PAC data, individual contribution data, PAC to PAC contribution data, and PAC to candidate contribution data, along with political party, industry, sector, and geographical information for the contributions.\n",
    "\n",
    "\\."
   ]
  },
  {
   "cell_type": "markdown",
   "metadata": {},
   "source": [
    "## Data Organisation"
   ]
  },
  {
   "cell_type": "markdown",
   "metadata": {},
   "source": [
    "> ### The data is available in a CSV document. It is 10 csv files for US Federal Campaign individual contributions, as shown in the below table:\n",
    "\n",
    "\n",
    "|name file| size file| Description|\n",
    "|-:|-:|-:|\n",
    "|individual_contributions.csv|5.22GB|Individual Contributions data for all election cycle.|\n",
    "|industry_codes.csv|40.72MB|The donor's industry or ideology data for individual contributions.|\n",
    "|backers.csv|14.1KB|Backers' data  in election cycle.|\n",
    "|candidates.csv|5.78MB| Candidates' data in election cycle.|\n",
    "|committees.csv|16.95MB|Committees' data in election cycle.|\n",
    "|fec_api_committees.csv|5.89MB| Updates data on committees for individual contributions for all election cycles.|\n",
    "|pac_records.csv|4.4MB|PAC data in  election cycle.|\n",
    "|pac_to_pacs.csv|213.95MB|PAC to PAC contribution data|\n",
    "|pacs.csv|316.95MB|PAC data in Individual Contributions for election cycle.|\n",
    "|politicians.csv|828.54KB|Politicians' data in election cycle.|"
   ]
  },
  {
   "cell_type": "markdown",
   "metadata": {},
   "source": [
    "The dataset on Kaggle in this link: https://www.kaggle.com/datasets/jeegarmaru/campaign-contributions-19902016"
   ]
  },
  {
   "cell_type": "markdown",
   "metadata": {},
   "source": [
    "\n",
    "# <img src=\"./images/business-value.png\" align='left' width='50'>  Business Value"
   ]
  },
  {
   "cell_type": "markdown",
   "metadata": {},
   "source": [
    "### <img src=\"./images/performance.png\" align='left' width='50'> Since there is a very large file size (more than five gigabytes of 'individual_contributions.csv') in the US federal campaign finance data from 1990–2016, we need to design, implement, and improve the Spark application to answer some interesting questions that we should be able to answer using this dataset:\n",
    "\n",
    "- How do individual contributions for each cycle evalve over time?\n",
    "- How are contributions affected by the presidential election year vs midterms?\n",
    "- How does a donor's industry or ideology affect individual contributions?"
   ]
  },
  {
   "cell_type": "markdown",
   "metadata": {},
   "source": [
    "# <img src=\"./images/Data-Processinh.png\" align='left' width='50'> Data Process"
   ]
  },
  {
   "cell_type": "markdown",
   "metadata": {},
   "source": [
    "## 📥 Install required libraries"
   ]
  },
  {
   "cell_type": "markdown",
   "metadata": {},
   "source": [
    "#### Before installing the library pyspark, you must execute some instructions:\n",
    "1 - open terminal and run command line `start-all.sh`\n",
    "\n",
    "2 - update bashrc by using command line `vi ~/.bashrc`\n",
    "\n",
    "3 - Add the folowing two lines:\n",
    "\n",
    ">  `export PYTHONPATH=$SPARK_HOME/python:$SPARK_HOME/python/lib/py4j-0.10.9-src.zip:$PYTHONPATH`\n",
    "\n",
    "> `export PATH=$SPARK_HOME/bin:$SPARK_HOME/python:$PATH\"`\n",
    "\n",
    "4 - Hash this line\n",
    "\n",
    ">\t` # export PATH=$PATH:/home/bigdata/spark/bin`\n",
    "    \n",
    "5- Save the changes and exit `vi`, press the `Esc` key to ensure you are in command mode. Then type `:wq` and press `Enter`. This command will write the changes to the file and quit the editor. \n",
    "\n",
    "Note:  exit without saving and press esc then `:q!`"
   ]
  },
  {
   "cell_type": "code",
   "execution_count": 1,
   "metadata": {},
   "outputs": [
    {
     "name": "stdout",
     "output_type": "stream",
     "text": [
      "Requirement already satisfied: pyspark in /home/bigdata/spark/python (3.0.1)\n",
      "Collecting py4j==0.10.9 (from pyspark)\n",
      "\u001b[33m  WARNING: Retrying (Retry(total=4, connect=None, read=None, redirect=None, status=None)) after connection broken by 'NewConnectionError('<pip._vendor.urllib3.connection.VerifiedHTTPSConnection object at 0x7fd3692fa810>: Failed to establish a new connection: [Errno -2] Name or service not known')': /simple/py4j/\u001b[0m\n",
      "\u001b[33m  WARNING: Retrying (Retry(total=3, connect=None, read=None, redirect=None, status=None)) after connection broken by 'NewConnectionError('<pip._vendor.urllib3.connection.VerifiedHTTPSConnection object at 0x7fd3692fa6d0>: Failed to establish a new connection: [Errno -2] Name or service not known')': /simple/py4j/\u001b[0m\n",
      "\u001b[33m  WARNING: Retrying (Retry(total=2, connect=None, read=None, redirect=None, status=None)) after connection broken by 'NewConnectionError('<pip._vendor.urllib3.connection.VerifiedHTTPSConnection object at 0x7fd3692fa510>: Failed to establish a new connection: [Errno -2] Name or service not known')': /simple/py4j/\u001b[0m\n",
      "\u001b[33m  WARNING: Retrying (Retry(total=1, connect=None, read=None, redirect=None, status=None)) after connection broken by 'NewConnectionError('<pip._vendor.urllib3.connection.VerifiedHTTPSConnection object at 0x7fd3692fa490>: Failed to establish a new connection: [Errno -2] Name or service not known')': /simple/py4j/\u001b[0m\n",
      "\u001b[33m  WARNING: Retrying (Retry(total=0, connect=None, read=None, redirect=None, status=None)) after connection broken by 'NewConnectionError('<pip._vendor.urllib3.connection.VerifiedHTTPSConnection object at 0x7fd3692fad10>: Failed to establish a new connection: [Errno -2] Name or service not known')': /simple/py4j/\u001b[0m\n",
      "\u001b[31m  ERROR: Could not find a version that satisfies the requirement py4j==0.10.9 (from pyspark) (from versions: none)\u001b[0m\n",
      "\u001b[31mERROR: No matching distribution found for py4j==0.10.9 (from pyspark)\u001b[0m\n"
     ]
    }
   ],
   "source": [
    "!pip install pyspark"
   ]
  },
  {
   "cell_type": "markdown",
   "metadata": {},
   "source": [
    "## 📥 Import libraries"
   ]
  },
  {
   "cell_type": "code",
   "execution_count": 1,
   "metadata": {},
   "outputs": [
    {
     "name": "stdout",
     "output_type": "stream",
     "text": [
      "3.0.1\n"
     ]
    }
   ],
   "source": [
    "#from pyspark import SparkContext, SparkConf\n",
    "import pyspark\n",
    "from pyspark.sql import SparkSession\n",
    "from pyspark import SparkConf\n",
    "from pyspark.sql.functions import col, sum, count\n",
    "from pyspark.sql.types import IntegerType\n",
    "from pyspark.sql.functions import broadcast\n",
    "import time\n",
    "import numpy as np\n",
    "import pandas as pd\n",
    "import matplotlib.pyplot as plt\n",
    "import os\n",
    "print(pyspark.__version__)"
   ]
  },
  {
   "cell_type": "markdown",
   "metadata": {},
   "source": [
    "## Make Spark Config"
   ]
  },
  {
   "cell_type": "markdown",
   "metadata": {},
   "source": [
    "> Increase the memory allocated to Spark: You can allocate more memory to Spark by adjusting the `spark.driver.memory` and `spark.executor.memory` configuration properties."
   ]
  },
  {
   "cell_type": "code",
   "execution_count": 4,
   "metadata": {},
   "outputs": [],
   "source": [
    "spark = SparkSession.builder.appName(\"US_Fed_Cam_Fin analysis\").\\\n",
    "                                config(\"spark.driver.memory\", \"8g\").\\\n",
    "                                config(\"spark.executor.memory\", \"8g\").\\\n",
    "                                getOrCreate()"
   ]
  },
  {
   "cell_type": "code",
   "execution_count": 6,
   "metadata": {
    "scrolled": false
   },
   "outputs": [
    {
     "name": "stdout",
     "output_type": "stream",
     "text": [
      "Executor Memory: 8g\n",
      "Driver Memory: 8g\n"
     ]
    }
   ],
   "source": [
    "# Create a SparkConf object\n",
    "conf = SparkConf()\n",
    "\n",
    "# Get the executor memory\n",
    "executor_memory = conf.get(\"spark.executor.memory\")\n",
    "\n",
    "# Get the driver memory\n",
    "driver_memory = conf.get(\"spark.driver.memory\")\n",
    "\n",
    "# Print the allocated memory\n",
    "print(\"Executor Memory:\", executor_memory)\n",
    "print(\"Driver Memory:\", driver_memory)\n"
   ]
  },
  {
   "cell_type": "markdown",
   "metadata": {},
   "source": [
    "> In Apache Spark, Executors are the worker nodes responsible for executing tasks in parallel. The Executor Memory refers to the amount of memory allocated to each Executor for storing data and executing tasks.\n",
    "\n",
    "> The Driver is the program that coordinates the execution of tasks on the Executors. The Driver Memory refers to the amount of memory allocated to the Driver program for storing data and managing the overall execution.\n",
    "\n",
    "> In this case, both the Executors and the Driver have been allocated 8 gigabytes of memory each, which means they have a total of 8 gigabytes of memory available for their respective operations.\n",
    "\n",
    "/"
   ]
  },
  {
   "cell_type": "markdown",
   "metadata": {},
   "source": [
    "## 🗃️ Load the dataset"
   ]
  },
  {
   "cell_type": "markdown",
   "metadata": {},
   "source": [
    ">>We have a structured dataset in CSV format with headers and want to leverage the schema inference capabilities of Spark using <strong> SparkSession.builder.getOrCreate().read.options(header=True, inferSchema=True).csv(data)</strong> would be a suitable approach. This method reads the CSV file into a DataFrame, allowing you to perform structured operations and take advantage of Spark's optimized query execution."
   ]
  },
  {
   "cell_type": "code",
   "execution_count": 7,
   "metadata": {},
   "outputs": [
    {
     "data": {
      "text/plain": [
       "['fec_api_committees.csv',\n",
       " 'candidates.csv',\n",
       " 'pacs.csv',\n",
       " 'pac_records.csv',\n",
       " 'politicians.csv',\n",
       " 'committees.csv',\n",
       " 'backers.csv',\n",
       " 'pac_to_pacs.csv',\n",
       " 'industry_codes.csv',\n",
       " 'individual_contributions.csv']"
      ]
     },
     "execution_count": 7,
     "metadata": {},
     "output_type": "execute_result"
    }
   ],
   "source": [
    "path_folder = \"./DataSet\"\n",
    "csv_files = [file for file in os.listdir(path_folder) if file.endswith(\".csv\")]\n",
    "csv_files"
   ]
  },
  {
   "cell_type": "code",
   "execution_count": 8,
   "metadata": {},
   "outputs": [
    {
     "name": "stdout",
     "output_type": "stream",
     "text": [
      "Loading fec_api_committees.csv:\n",
      "Duration: 11.88 seconds\n",
      "Loading candidates.csv:\n",
      "Duration: 3.85 seconds\n",
      "Loading pacs.csv:\n",
      "Duration: 37.49 seconds\n",
      "Loading pac_records.csv:\n",
      "Duration: 1.09 seconds\n",
      "Loading politicians.csv:\n",
      "Duration: 0.66 seconds\n",
      "Loading committees.csv:\n",
      "Duration: 1.39 seconds\n",
      "Loading backers.csv:\n",
      "Duration: 0.38 seconds\n",
      "Loading pac_to_pacs.csv:\n",
      "Duration: 29.41 seconds\n",
      "Loading industry_codes.csv:\n",
      "Duration: 0.34 seconds\n",
      "Loading individual_contributions.csv:\n",
      "Duration: 292.29 seconds\n"
     ]
    }
   ],
   "source": [
    "def load_data(data):\n",
    "    t1=time.time()\n",
    "    dat = spark.read.options(header=True, inferSchema=True).csv(data)\n",
    "    t2=time.time()\n",
    "    print(\"Duration:\", np.round((t2-t1), 2), \"seconds\")\n",
    "    return(dat)\n",
    "\n",
    " # Create an empty dictionary\n",
    "dfs_US_Fed_Cam_Fin = {} \n",
    "\n",
    "# read csv files in the dictionary\n",
    "for name_file in csv_files:\n",
    "    print(f\"Loading {name_file}:\")\n",
    "    # Append the DataFrame to the dictionary with a file name\n",
    "    dfs_US_Fed_Cam_Fin[name_file.replace(\".csv\",\"\")] = load_data(path_folder+'/'+name_file)"
   ]
  },
  {
   "cell_type": "code",
   "execution_count": 9,
   "metadata": {},
   "outputs": [
    {
     "data": {
      "text/plain": [
       "dict_keys(['fec_api_committees', 'candidates', 'pacs', 'pac_records', 'politicians', 'committees', 'backers', 'pac_to_pacs', 'industry_codes', 'individual_contributions'])"
      ]
     },
     "execution_count": 9,
     "metadata": {},
     "output_type": "execute_result"
    }
   ],
   "source": [
    "dfs_US_Fed_Cam_Fin.keys()"
   ]
  },
  {
   "cell_type": "code",
   "execution_count": 10,
   "metadata": {},
   "outputs": [],
   "source": [
    "df_individual_contributions = dfs_US_Fed_Cam_Fin['individual_contributions']"
   ]
  },
  {
   "cell_type": "markdown",
   "metadata": {},
   "source": [
    "##  📝Meta information of Spark Dataframe"
   ]
  },
  {
   "cell_type": "code",
   "execution_count": 11,
   "metadata": {},
   "outputs": [
    {
     "name": "stdout",
     "output_type": "stream",
     "text": [
      "the count individual_contributions: 24446421\n",
      "The Schema of individual_contributions table:\n",
      "root\n",
      " |-- id: string (nullable = true)\n",
      " |-- cycle: string (nullable = true)\n",
      " |-- fec_trans_id: string (nullable = true)\n",
      " |-- contributor_id: string (nullable = true)\n",
      " |-- contributor_name: string (nullable = true)\n",
      " |-- recipient_id: string (nullable = true)\n",
      " |-- org_name: string (nullable = true)\n",
      " |-- ult_org: string (nullable = true)\n",
      " |-- real_code: string (nullable = true)\n",
      " |-- date: string (nullable = true)\n",
      " |-- amount: string (nullable = true)\n",
      " |-- street: string (nullable = true)\n",
      " |-- city: string (nullable = true)\n",
      " |-- state: string (nullable = true)\n",
      " |-- zip: string (nullable = true)\n",
      " |-- recip_code: string (nullable = true)\n",
      " |-- type: string (nullable = true)\n",
      " |-- committee_id: string (nullable = true)\n",
      " |-- other_id: string (nullable = true)\n",
      " |-- gender: string (nullable = true)\n",
      " |-- old_format_employer_occupation: string (nullable = true)\n",
      " |-- microfilm: string (nullable = true)\n",
      " |-- occupation: string (nullable = true)\n",
      " |-- employer: string (nullable = true)\n",
      " |-- source: string (nullable = true)\n",
      "\n"
     ]
    }
   ],
   "source": [
    "print(f'the count individual_contributions: {df_individual_contributions.count()}')\n",
    "print(\"The Schema of individual_contributions table:\")\n",
    "df_individual_contributions.printSchema()"
   ]
  },
  {
   "cell_type": "markdown",
   "metadata": {},
   "source": [
    "## 🔎 Check the null values and dublicated rows"
   ]
  },
  {
   "cell_type": "code",
   "execution_count": 6,
   "metadata": {},
   "outputs": [],
   "source": [
    "def get_null_count_column(df):\n",
    "    for name_column in df.columns:\n",
    "        print(f\"Counting the null number for {name_column}:\")\n",
    "        t1=time.time()\n",
    "        # Assuming you have a DataFrame called 'df' and a column called 'column_name'\n",
    "        null_count = df.filter(col(name_column).isNull()).count()\n",
    "        print(f\"The null count of {name_column}: {null_count}\")\n",
    "        t2=time.time()\n",
    "        print(\"Duration:\", np.round((t2-t1), 2), \"seconds\")"
   ]
  },
  {
   "cell_type": "code",
   "execution_count": 13,
   "metadata": {},
   "outputs": [
    {
     "name": "stdout",
     "output_type": "stream",
     "text": [
      "The null count of id: 0\n",
      "Duration: 32.34 seconds\n",
      "The null count of cycle: 3\n",
      "Duration: 35.65 seconds\n",
      "The null count of fec_trans_id: 0\n",
      "Duration: 33.97 seconds\n",
      "The null count of contributor_id: 0\n",
      "Duration: 34.48 seconds\n",
      "The null count of contributor_name: 39834\n",
      "Duration: 35.81 seconds\n",
      "The null count of recipient_id: 866\n",
      "Duration: 35.2 seconds\n",
      "The null count of org_name: 5198237\n",
      "Duration: 41.19 seconds\n",
      "The null count of ult_org: 23814358\n",
      "Duration: 36.29 seconds\n",
      "The null count of real_code: 59\n",
      "Duration: 40.41 seconds\n",
      "The null count of date: 552\n",
      "Duration: 35.0 seconds\n",
      "The null count of amount: 47\n",
      "Duration: 35.16 seconds\n",
      "The null count of street: 13170692\n",
      "Duration: 38.61 seconds\n",
      "The null count of city: 185829\n",
      "Duration: 35.49 seconds\n",
      "The null count of state: 4984\n",
      "Duration: 35.53 seconds\n",
      "The null count of zip: 11521\n",
      "Duration: 36.4 seconds\n",
      "The null count of recip_code: 1027\n",
      "Duration: 35.83 seconds\n",
      "The null count of type: 85\n",
      "Duration: 35.65 seconds\n",
      "The null count of committee_id: 56\n",
      "Duration: 36.27 seconds\n",
      "The null count of other_id: 23225824\n",
      "Duration: 36.9 seconds\n",
      "The null count of gender: 185123\n",
      "Duration: 37.36 seconds\n",
      "The null count of old_format_employer_occupation: 8877661\n",
      "Duration: 37.88 seconds\n",
      "The null count of microfilm: 1038716\n",
      "Duration: 37.29 seconds\n",
      "The null count of occupation: 12287930\n",
      "Duration: 39.11 seconds\n",
      "The null count of employer: 12595843\n",
      "Duration: 43.83 seconds\n",
      "The null count of source: 2404291\n",
      "Duration: 44.46 seconds\n"
     ]
    }
   ],
   "source": [
    "get_null_count_column(df_individual_contributions)"
   ]
  },
  {
   "cell_type": "code",
   "execution_count": 22,
   "metadata": {},
   "outputs": [
    {
     "name": "stdout",
     "output_type": "stream",
     "text": [
      "0\n"
     ]
    }
   ],
   "source": [
    "redundant_rows = df_individual_contributions_old.groupBy(df_individual_contributions_old.columns).count().filter(col(\"count\") > 1)\n",
    "print(redundant_rows.count())"
   ]
  },
  {
   "cell_type": "markdown",
   "metadata": {},
   "source": [
    "### Solve the null problem, we split the dataset into two types:\n",
    "1. > Individual contributions don't have The committee id number for the intermediary party to earmarked contributions.(<strong>df_ind_Unearmarked_Con</strong>)"
   ]
  },
  {
   "cell_type": "code",
   "execution_count": 9,
   "metadata": {},
   "outputs": [],
   "source": [
    "df_ind_Unearmarked_Con = df_individual_contributions.filter(col(\"other_id\").isNull()).select(\"*\")"
   ]
  },
  {
   "cell_type": "markdown",
   "metadata": {},
   "source": [
    "### <img src=\"./images/data-clean.png\" align='left' width='50'> Data Cleaning: individual contributions data"
   ]
  },
  {
   "cell_type": "code",
   "execution_count": 10,
   "metadata": {},
   "outputs": [],
   "source": [
    "# drop the useless columns that have null values (\"ult_org\", \"other_id\")\n",
    "df_ind_Unearmarked_Con = df_ind_Unearmarked_Con.drop(*[\"ult_org\", \"other_id\"])\n",
    "# fill the null values by \"unkown\"\n",
    "unk = \"unknown\"\n",
    "df_ind_Unearmarked_Con = df_ind_Unearmarked_Con.fillna({\"org_name\":unk,\n",
    "                                                        \"street\":unk, \n",
    "                                                        \"city\":unk, \n",
    "                                                        \"state\":unk,\n",
    "                                                        \"zip\":unk,\n",
    "                                                        \"gender\":\"U\",\n",
    "                                                        \"old_format_employer_occupation\": unk,\n",
    "                                                        \"microfilm\":unk,\n",
    "                                                        \"occupation\":unk,\n",
    "                                                        \"employer\":unk,\n",
    "                                                        \"source\":unk})\n",
    "# drop the rows with null values\n",
    "df_ind_Unearmarked_Con = df_ind_Unearmarked_Con.dropna(how=\"any\")"
   ]
  },
  {
   "cell_type": "code",
   "execution_count": 74,
   "metadata": {},
   "outputs": [
    {
     "name": "stdout",
     "output_type": "stream",
     "text": [
      "Counting the null number for id:\n",
      "The null count of id: 0\n",
      "Duration: 7.43 seconds\n",
      "Counting the null number for cycle:\n",
      "The null count of cycle: 0\n",
      "Duration: 9.57 seconds\n",
      "Counting the null number for fec_trans_id:\n",
      "The null count of fec_trans_id: 0\n",
      "Duration: 10.09 seconds\n",
      "Counting the null number for contributor_id:\n",
      "The null count of contributor_id: 0\n",
      "Duration: 11.01 seconds\n",
      "Counting the null number for contributor_name:\n",
      "The null count of contributor_name: 0\n",
      "Duration: 22.14 seconds\n",
      "Counting the null number for recipient_id:\n",
      "The null count of recipient_id: 0\n",
      "Duration: 10.77 seconds\n",
      "Counting the null number for org_name:\n",
      "The null count of org_name: 0\n",
      "Duration: 0.03 seconds\n",
      "Counting the null number for real_code:\n",
      "The null count of real_code: 0\n",
      "Duration: 10.26 seconds\n",
      "Counting the null number for date:\n",
      "The null count of date: 0\n",
      "Duration: 10.64 seconds\n",
      "Counting the null number for amount:\n",
      "The null count of amount: 0\n",
      "Duration: 9.02 seconds\n",
      "Counting the null number for street:\n",
      "The null count of street: 0\n",
      "Duration: 0.03 seconds\n",
      "Counting the null number for city:\n",
      "The null count of city: 0\n",
      "Duration: 0.03 seconds\n",
      "Counting the null number for state:\n",
      "The null count of state: 0\n",
      "Duration: 0.04 seconds\n",
      "Counting the null number for zip:\n",
      "The null count of zip: 0\n",
      "Duration: 0.04 seconds\n",
      "Counting the null number for recip_code:\n",
      "The null count of recip_code: 0\n",
      "Duration: 14.49 seconds\n",
      "Counting the null number for type:\n",
      "The null count of type: 0\n",
      "Duration: 9.75 seconds\n",
      "Counting the null number for committee_id:\n",
      "The null count of committee_id: 0\n",
      "Duration: 9.97 seconds\n",
      "Counting the null number for gender:\n",
      "The null count of gender: 0\n",
      "Duration: 0.08 seconds\n",
      "Counting the null number for old_format_employer_occupation:\n",
      "The null count of old_format_employer_occupation: 0\n",
      "Duration: 0.07 seconds\n",
      "Counting the null number for microfilm:\n",
      "The null count of microfilm: 0\n",
      "Duration: 0.07 seconds\n",
      "Counting the null number for occupation:\n",
      "The null count of occupation: 0\n",
      "Duration: 0.1 seconds\n",
      "Counting the null number for employer:\n",
      "The null count of employer: 0\n",
      "Duration: 0.07 seconds\n",
      "Counting the null number for source:\n",
      "The null count of source: 0\n",
      "Duration: 0.07 seconds\n"
     ]
    }
   ],
   "source": [
    "get_null_count_column(df_ind_Unearmarked_Con)"
   ]
  },
  {
   "cell_type": "markdown",
   "metadata": {},
   "source": [
    "### Remove missing value for cycle 'X4000'\n",
    "because the cycle column is Last year (even year) of the federal 2-year election cycle."
   ]
  },
  {
   "cell_type": "code",
   "execution_count": 73,
   "metadata": {},
   "outputs": [
    {
     "name": "stdout",
     "output_type": "stream",
     "text": [
      "+-----+\n",
      "|cycle|\n",
      "+-----+\n",
      "| 2016|\n",
      "| 2012|\n",
      "| 2014|\n",
      "| 2000|\n",
      "|X4000|\n",
      "| 2002|\n",
      "| 2006|\n",
      "| 2004|\n",
      "| 1992|\n",
      "| 2008|\n",
      "| 1994|\n",
      "| 1996|\n",
      "| 1998|\n",
      "|\t2006|\n",
      "| 2010|\n",
      "| 1990|\n",
      "+-----+\n",
      "\n"
     ]
    }
   ],
   "source": [
    "df_ind_Unearmarked_Con.select('cycle').distinct().show()"
   ]
  },
  {
   "cell_type": "code",
   "execution_count": 74,
   "metadata": {},
   "outputs": [
    {
     "data": {
      "text/plain": [
       "3"
      ]
     },
     "execution_count": 74,
     "metadata": {},
     "output_type": "execute_result"
    }
   ],
   "source": [
    "df_ind_Unearmarked_Con.filter(col('cycle') == 'X4000').count()"
   ]
  },
  {
   "cell_type": "code",
   "execution_count": 11,
   "metadata": {},
   "outputs": [],
   "source": [
    "df_ind_Unearmarked_Con = df_ind_Unearmarked_Con.filter(col('cycle') != 'X4000')"
   ]
  },
  {
   "cell_type": "markdown",
   "metadata": {},
   "source": [
    "### Change cycle column as string type to integer type"
   ]
  },
  {
   "cell_type": "code",
   "execution_count": 26,
   "metadata": {},
   "outputs": [],
   "source": [
    "df_ind_Unearmarked_Con = df_ind_Unearmarked_Con.withColumn(\"cycle\", col(\"cycle\").cast(\"integer\"))"
   ]
  },
  {
   "cell_type": "code",
   "execution_count": 27,
   "metadata": {},
   "outputs": [
    {
     "name": "stdout",
     "output_type": "stream",
     "text": [
      "+-----+\n",
      "|cycle|\n",
      "+-----+\n",
      "| 1990|\n",
      "| 2006|\n",
      "| 1994|\n",
      "| 2014|\n",
      "| 2004|\n",
      "| 1996|\n",
      "| 1998|\n",
      "| 2012|\n",
      "| 2016|\n",
      "| 1992|\n",
      "| 2000|\n",
      "| 2010|\n",
      "| 2008|\n",
      "| 2002|\n",
      "+-----+\n",
      "\n"
     ]
    }
   ],
   "source": [
    "df_ind_Unearmarked_Con.select('cycle').distinct().show()"
   ]
  },
  {
   "cell_type": "markdown",
   "metadata": {},
   "source": [
    "2. > individual contributions have The committee id number for the intermediary party to earmarked contributions. (<strong>df_ind_Earmarked_Con</strong>)\n"
   ]
  },
  {
   "cell_type": "code",
   "execution_count": 12,
   "metadata": {},
   "outputs": [],
   "source": [
    "df_ind_Earmarked_Con = df_individual_contributions.filter(col(\"other_id\").isNotNull()).select(\"*\")"
   ]
  },
  {
   "cell_type": "markdown",
   "metadata": {},
   "source": [
    "### <img src=\"./images/data-clean.png\" align='left' width='50'> Data Cleaning: individual contributions data"
   ]
  },
  {
   "cell_type": "code",
   "execution_count": 13,
   "metadata": {},
   "outputs": [],
   "source": [
    "# drop the useless columns that have null values (\"ult_org\", \"other_id\")\n",
    "df_ind_Earmarked_Con = df_ind_Earmarked_Con.drop(*[\"ult_org\", \"old_format_employer_occupation\"])\n",
    "# fill the null values by \"unkown\"\n",
    "unk = \"unknown\"\n",
    "df_ind_Earmarked_Con = df_ind_Earmarked_Con.fillna({\"org_name\":unk,\n",
    "                                                    \"contributor_name\":unk,\n",
    "                                                    \"street\":unk, \n",
    "                                                    \"city\":unk, \n",
    "                                                    \"state\":unk,\n",
    "                                                    \"zip\":unk,\n",
    "                                                    \"gender\":\"U\",\n",
    "                                                    \"occupation\":unk,\n",
    "                                                    \"employer\":unk})\n",
    "# drop the rows with null values\n",
    "df_ind_Earmarked_Con = df_ind_Earmarked_Con.dropna(how=\"any\")"
   ]
  },
  {
   "cell_type": "code",
   "execution_count": 71,
   "metadata": {},
   "outputs": [
    {
     "name": "stdout",
     "output_type": "stream",
     "text": [
      "Counting the null number for id:\n",
      "The null count of id: 0\n",
      "Duration: 7.84 seconds\n",
      "Counting the null number for cycle:\n",
      "The null count of cycle: 0\n",
      "Duration: 8.61 seconds\n",
      "Counting the null number for fec_trans_id:\n",
      "The null count of fec_trans_id: 0\n",
      "Duration: 8.42 seconds\n",
      "Counting the null number for contributor_id:\n",
      "The null count of contributor_id: 0\n",
      "Duration: 7.72 seconds\n",
      "Counting the null number for contributor_name:\n",
      "The null count of contributor_name: 0\n",
      "Duration: 0.04 seconds\n",
      "Counting the null number for recipient_id:\n",
      "The null count of recipient_id: 0\n",
      "Duration: 9.96 seconds\n",
      "Counting the null number for org_name:\n",
      "The null count of org_name: 0\n",
      "Duration: 0.04 seconds\n",
      "Counting the null number for real_code:\n",
      "The null count of real_code: 0\n",
      "Duration: 10.44 seconds\n",
      "Counting the null number for date:\n",
      "The null count of date: 0\n",
      "Duration: 10.77 seconds\n",
      "Counting the null number for amount:\n",
      "The null count of amount: 0\n",
      "Duration: 8.89 seconds\n",
      "Counting the null number for street:\n",
      "The null count of street: 0\n",
      "Duration: 0.06 seconds\n",
      "Counting the null number for city:\n",
      "The null count of city: 0\n",
      "Duration: 0.04 seconds\n",
      "Counting the null number for state:\n",
      "The null count of state: 0\n",
      "Duration: 0.04 seconds\n",
      "Counting the null number for zip:\n",
      "The null count of zip: 0\n",
      "Duration: 0.03 seconds\n",
      "Counting the null number for recip_code:\n",
      "The null count of recip_code: 0\n",
      "Duration: 11.37 seconds\n",
      "Counting the null number for type:\n",
      "The null count of type: 0\n",
      "Duration: 9.33 seconds\n",
      "Counting the null number for committee_id:\n",
      "The null count of committee_id: 0\n",
      "Duration: 11.77 seconds\n",
      "Counting the null number for other_id:\n",
      "The null count of other_id: 0\n",
      "Duration: 31.04 seconds\n",
      "Counting the null number for gender:\n",
      "The null count of gender: 0\n",
      "Duration: 0.04 seconds\n",
      "Counting the null number for microfilm:\n",
      "The null count of microfilm: 0\n",
      "Duration: 26.23 seconds\n",
      "Counting the null number for occupation:\n",
      "The null count of occupation: 0\n",
      "Duration: 0.08 seconds\n",
      "Counting the null number for employer:\n",
      "The null count of employer: 0\n",
      "Duration: 0.1 seconds\n",
      "Counting the null number for source:\n",
      "The null count of source: 0\n",
      "Duration: 25.22 seconds\n"
     ]
    }
   ],
   "source": [
    "get_null_count_column(df_ind_Earmarked_Con)"
   ]
  },
  {
   "cell_type": "code",
   "execution_count": 17,
   "metadata": {},
   "outputs": [
    {
     "name": "stdout",
     "output_type": "stream",
     "text": [
      "root\n",
      " |-- id: integer (nullable = true)\n",
      " |-- category_code: string (nullable = true)\n",
      " |-- category_name: string (nullable = true)\n",
      " |-- industry_code: string (nullable = true)\n",
      " |-- industry_name: string (nullable = true)\n",
      " |-- sector: string (nullable = true)\n",
      " |-- sector_long: string (nullable = true)\n",
      "\n"
     ]
    }
   ],
   "source": [
    "df_industry_codes = dfs_US_Fed_Cam_Fin['industry_codes']\n",
    "df_industry_codes.printSchema()\n"
   ]
  },
  {
   "cell_type": "code",
   "execution_count": 19,
   "metadata": {},
   "outputs": [
    {
     "name": "stdout",
     "output_type": "stream",
     "text": [
      "Counting the null number for id:\n",
      "The null count of id: 0\n",
      "Duration: 0.23 seconds\n",
      "Counting the null number for category_code:\n",
      "The null count of category_code: 0\n",
      "Duration: 0.27 seconds\n",
      "Counting the null number for category_name:\n",
      "The null count of category_name: 0\n",
      "Duration: 0.11 seconds\n",
      "Counting the null number for industry_code:\n",
      "The null count of industry_code: 0\n",
      "Duration: 0.09 seconds\n",
      "Counting the null number for industry_name:\n",
      "The null count of industry_name: 0\n",
      "Duration: 0.11 seconds\n",
      "Counting the null number for sector:\n",
      "The null count of sector: 0\n",
      "Duration: 0.1 seconds\n",
      "Counting the null number for sector_long:\n",
      "The null count of sector_long: 0\n",
      "Duration: 0.1 seconds\n"
     ]
    }
   ],
   "source": [
    "get_null_count_column(df_industry_codes)"
   ]
  },
  {
   "cell_type": "markdown",
   "metadata": {},
   "source": [
    "# <img src=\"./images/analysis.png\" align='left' width='50'> Data Analysis"
   ]
  },
  {
   "cell_type": "code",
   "execution_count": 112,
   "metadata": {},
   "outputs": [],
   "source": [
    "count_ind_Unearmarked_Con = df_ind_Unearmarked_Con.count()\n",
    "count_ind_Earmarked_Con = df_ind_Earmarked_Con.count()"
   ]
  },
  {
   "cell_type": "code",
   "execution_count": 114,
   "metadata": {},
   "outputs": [
    {
     "name": "stdout",
     "output_type": "stream",
     "text": [
      "The count of individual contributions that don't have an intermediary party for earmarked contributions is 23224559\n",
      "The count of individual contributions that have an intermediary party for earmarked contributions is 1219066\n"
     ]
    }
   ],
   "source": [
    "print(f\"The count of individual contributions that don't have an intermediary party for earmarked contributions is {count_ind_Unearmarked_Con}\")\n",
    "print(f\"The count of individual contributions that have an intermediary party for earmarked contributions is {count_ind_Earmarked_Con}\")"
   ]
  },
  {
   "cell_type": "markdown",
   "metadata": {},
   "source": [
    "## <img src=\"./images/Question.png\" align='left' width='50'> How do individual contributions for each cycle evolve over time?"
   ]
  },
  {
   "cell_type": "code",
   "execution_count": 41,
   "metadata": {},
   "outputs": [],
   "source": [
    "# The 'get_Totalamounts_groupBy' function return dataframe for total amounts by group\n",
    "def get_Totalamounts_groupBy(df, name_col, number_partition = 200):\n",
    "    # Partition the DataFrame by a column (e.g., \"cycle\")\n",
    "    partitioned_df = df.repartition(number_partition, name_col)\n",
    "    start_time = time.time()\n",
    "    # Perform the groupBy and sum aggregation\n",
    "    result_df = partitioned_df.groupBy(name_col).\\\n",
    "                                agg(sum(\"amount\").alias(\"TotalAmount\")).\\\n",
    "                                orderBy(col('TotalAmount').desc()).cache()\n",
    "    end_time = time.time()\n",
    "    # unpersist() removes the DataFrame from memory \n",
    "    # result_df.unpersist()\n",
    "    # Show the result and Set `truncate` to `False` to ensure that all rows are displayed without any truncation.\n",
    "    result_df.show(truncate=False)\n",
    "\n",
    "    # Calculate the execution time\n",
    "    execution_time = end_time - start_time\n",
    "    print(\"Execution Time:\", execution_time, \"seconds\")\n",
    "    return result_df\n",
    "\n",
    "#-----------------------------------------------------------------------------------------------------------------\n",
    "# the `convert_to_k() function takes a float number as input and convert it as symbol such as 1000 into 1K\n",
    "def convert_to_k(number):\n",
    "    suffixes = ['', 'K', 'M', 'B', 'T']  # Add more suffixes as needed\n",
    "    for suffix in suffixes:\n",
    "        if abs(number) < 1000:\n",
    "            return f\"{number:.2f}{suffix}\"\n",
    "        number /= 1000\n",
    "    return f\"{number:.1f}T\"  # If the number is larger than 1 trillion\n",
    "#-----------------------------------------------------------------------------------------------------------------\n",
    "\n",
    "# The plot_hisgram_pd function plots \n",
    "def plot_hisgram_pd(df, title, col_name1, col_name2):\n",
    "    # Convert Spark DataFrame to Pandas DataFrame\n",
    "    pandas_df = df.toPandas()\n",
    "    # Plot histogram\n",
    "    plt.figure(figsize=(14, 6))  # Set the figure size to make it larger\n",
    "    plt.hist(pandas_df[col_name1],\n",
    "             bins=len(pandas_df[col_name1].unique()), \n",
    "             weights=pandas_df[col_name2])\n",
    "    # Add text annotations for the total amounts of each year\n",
    "    for index, row in pandas_df.iterrows():\n",
    "        cycle = row[col_name1]\n",
    "        total_amount = row[col_name2]\n",
    "        plt.text(cycle, total_amount, f'{convert_to_k(total_amount)}', ha='center', va='bottom')\n",
    "    # Set the x-axis label\n",
    "    plt.xlabel(col_name1)\n",
    "    # Set the y-axis label\n",
    "    plt.ylabel(col_name2)\n",
    "    # Set the title of the histogram\n",
    "    plt.title(title, fontsize=16)  \n",
    "    plt.show()  # Display the histogram"
   ]
  },
  {
   "cell_type": "markdown",
   "metadata": {},
   "source": [
    "### Getting the total amounts for each election cycle that doesn't have the intermediary party's earmarked contributions."
   ]
  },
  {
   "cell_type": "code",
   "execution_count": 29,
   "metadata": {},
   "outputs": [
    {
     "name": "stdout",
     "output_type": "stream",
     "text": [
      "+-----+-------------+\n",
      "|cycle|TotalAmount  |\n",
      "+-----+-------------+\n",
      "|1990 |3.06008916E8 |\n",
      "|1992 |6.09710988E8 |\n",
      "|1994 |5.68598737E8 |\n",
      "|1996 |9.97758908E8 |\n",
      "|1998 |8.05928021E8 |\n",
      "|2000 |1.649671649E9|\n",
      "|2002 |1.470417569E9|\n",
      "|2004 |2.186706549E9|\n",
      "|2006 |1.525272884E9|\n",
      "|2008 |3.09152343E9 |\n",
      "|2010 |1.781578743E9|\n",
      "|2012 |4.47612159E9 |\n",
      "|2014 |2.19289553E9 |\n",
      "|2016 |9.86463247E8 |\n",
      "+-----+-------------+\n",
      "\n",
      "Execution Time: 0.11927986145019531 seconds\n"
     ]
    }
   ],
   "source": [
    "res_ind_unearmarked_Con = get_Totalamounts_groupBy(df_ind_Unearmarked_Con,'cycle')"
   ]
  },
  {
   "cell_type": "markdown",
   "metadata": {},
   "source": [
    "### <img src=\"./images/Dataset-Exploration.png\" align='left' width='50'> plotting the total amounts for each election cycle that doesn't have the intermediary party's earmarked contributions."
   ]
  },
  {
   "cell_type": "code",
   "execution_count": 30,
   "metadata": {},
   "outputs": [
    {
     "data": {
      "image/png": "[encoded data removed]",
      "text/plain": [
       "<Figure size 1008x432 with 1 Axes>"
      ]
     },
     "metadata": {
      "needs_background": "light"
     },
     "output_type": "display_data"
    }
   ],
   "source": [
    "plot_hisgram_pd(res_ind_unearmarked_Con, \n",
    "                \"Individual Contributions over Time (1990-2016)\", \"cycle\", \"TotalAmount\")"
   ]
  },
  {
   "cell_type": "markdown",
   "metadata": {},
   "source": [
    "### Getting the total amounts for each election cycle that has the intermediary party's earmarked contributions."
   ]
  },
  {
   "cell_type": "code",
   "execution_count": 42,
   "metadata": {},
   "outputs": [
    {
     "name": "stdout",
     "output_type": "stream",
     "text": [
      "+-----+------------+\n",
      "|cycle|TotalAmount |\n",
      "+-----+------------+\n",
      "|2008 |8.83856903E8|\n",
      "|2014 |3.0170596E8 |\n",
      "|2012 |2.80439589E8|\n",
      "|2010 |2.20395454E8|\n",
      "|2000 |1.56265058E8|\n",
      "|2006 |1.12603253E8|\n",
      "|2004 |9.7109662E7 |\n",
      "|1992 |9.4402789E7 |\n",
      "|2016 |8.082593E7  |\n",
      "|1996 |5.65689E7   |\n",
      "|1994 |5.3031175E7 |\n",
      "|2002 |4.1249503E7 |\n",
      "|1998 |3.8778134E7 |\n",
      "|1990 |1.8722892E7 |\n",
      "+-----+------------+\n",
      "\n",
      "Execution Time: 0.09181094169616699 seconds\n"
     ]
    }
   ],
   "source": [
    "res_ind_Earmarked_Con = get_Totalamounts_groupBy(df_ind_Earmarked_Con, 'cycle')"
   ]
  },
  {
   "cell_type": "markdown",
   "metadata": {},
   "source": [
    "###  <img src=\"./images/Dataset-Exploration.png\" align='left' width='50'>Plotting tthe total amounts for each election cycle that has the intermediary party's earmarked contributions."
   ]
  },
  {
   "cell_type": "code",
   "execution_count": 43,
   "metadata": {},
   "outputs": [
    {
     "data": {
      "image/png": "[encoded data removed]",
      "text/plain": [
       "<Figure size 1008x432 with 1 Axes>"
      ]
     },
     "metadata": {
      "needs_background": "light"
     },
     "output_type": "display_data"
    }
   ],
   "source": [
    "plot_hisgram_pd(res_ind_Earmarked_Con, \n",
    "                \"Individual Contributions over Time (1990-2016)\", \"cycle\", \"TotalAmount\")"
   ]
  },
  {
   "cell_type": "markdown",
   "metadata": {},
   "source": [
    "## <img src=\"./images/Question.png\" align='left' width='50'>  How are contributions affected by the presidential election year vs midterms?"
   ]
  },
  {
   "cell_type": "code",
   "execution_count": null,
   "metadata": {},
   "outputs": [],
   "source": [
    "df_ind_Unearmarked_Con\n",
    "df_ind_Earmarked_Con"
   ]
  },
  {
   "cell_type": "code",
   "execution_count": 198,
   "metadata": {},
   "outputs": [],
   "source": [
    "# The 'get_Totalcount_cycle' function return dataframe for total amounts for election cycle\n",
    "def get_Totalcount_cycle(df, number_partition=200):\n",
    "    \n",
    "    presidential_years = [1992, 1996, 2000, 2004, 2008, 2012, 2016]\n",
    "    midterm_years = [1990, 1994, 1998, 2002, 2006, 2010, 2014]\n",
    "    # Extract the contributions data for the years of interest, which include presidential election years and midterms\n",
    "    filtered_df = df.filter(col(\"cycle\").isin(presidential_years + midterm_years))\n",
    "    \n",
    "    # Partition the DataFrame by a column (e.g., \"cycle\")\n",
    "    partitioned_df = filtered_df.repartition(number_partition, \"cycle\")\n",
    "    \n",
    "    start_time = time.time()\n",
    "    \n",
    "    # Perform the groupBy and sum aggregation\n",
    "    # cache the intermediate result in memory, improving subsequent performance if the DataFrame is reused.\n",
    "    contributions_by_year = partitioned_df.groupBy(\"cycle\").\\\n",
    "                                    agg(count(\"*\").alias(\"Totalcount\")).\\\n",
    "                                    orderBy(col(\"cycle\").asc()).cache()\n",
    "    end_time = time.time()\n",
    "\n",
    "    # Show the result and Set `truncate` to `False` to ensure that all rows are displayed without any truncation.\n",
    "    contributions_by_year.show(truncate=False)\n",
    "\n",
    "    # Calculate the execution time\n",
    "    execution_time = end_time - start_time\n",
    "    print(\"Execution Time:\", execution_time, \"seconds\")\n",
    "    return contributions_by_year"
   ]
  },
  {
   "cell_type": "markdown",
   "metadata": {},
   "source": [
    "### Getting the total counts for each election cycle that doesn't have the intermediary party's earmarked contributions."
   ]
  },
  {
   "cell_type": "code",
   "execution_count": 199,
   "metadata": {},
   "outputs": [
    {
     "name": "stdout",
     "output_type": "stream",
     "text": [
      "+-----+----------+\n",
      "|cycle|Totalcount|\n",
      "+-----+----------+\n",
      "|1990 |520800    |\n",
      "|1992 |871908    |\n",
      "|1994 |834379    |\n",
      "|1996 |1218803   |\n",
      "|1998 |998774    |\n",
      "|2000 |1684081   |\n",
      "|2002 |1412424   |\n",
      "|2004 |2473264   |\n",
      "|2006 |1758671   |\n",
      "|2008 |3448390   |\n",
      "|2010 |1989937   |\n",
      "|2012 |3603287   |\n",
      "|2014 |1734779   |\n",
      "|2016 |675061    |\n",
      "+-----+----------+\n",
      "\n",
      "Execution Time: 0.021700620651245117 seconds\n"
     ]
    }
   ],
   "source": [
    "# using 100 partitions\n",
    "contributions_by_year_Unearmarked_Con = get_Totalcount_cycle(df_ind_Unearmarked_Con,100)"
   ]
  },
  {
   "cell_type": "code",
   "execution_count": 200,
   "metadata": {},
   "outputs": [
    {
     "name": "stdout",
     "output_type": "stream",
     "text": [
      "+-----+----------+\n",
      "|cycle|Totalcount|\n",
      "+-----+----------+\n",
      "|1990 |520800    |\n",
      "|1992 |871908    |\n",
      "|1994 |834379    |\n",
      "|1996 |1218803   |\n",
      "|1998 |998774    |\n",
      "|2000 |1684081   |\n",
      "|2002 |1412424   |\n",
      "|2004 |2473264   |\n",
      "|2006 |1758671   |\n",
      "|2008 |3448390   |\n",
      "|2010 |1989937   |\n",
      "|2012 |3603287   |\n",
      "|2014 |1734779   |\n",
      "|2016 |675061    |\n",
      "+-----+----------+\n",
      "\n",
      "Execution Time: 0.040085792541503906 seconds\n"
     ]
    }
   ],
   "source": [
    "# using 200 partitions\n",
    "contributions_by_year_Unearmarked_Con = get_Totalcount_cycle(df_ind_Unearmarked_Con,200)"
   ]
  },
  {
   "cell_type": "code",
   "execution_count": 201,
   "metadata": {},
   "outputs": [
    {
     "name": "stdout",
     "output_type": "stream",
     "text": [
      "+-----+----------+\n",
      "|cycle|Totalcount|\n",
      "+-----+----------+\n",
      "|1990 |520800    |\n",
      "|1992 |871908    |\n",
      "|1994 |834379    |\n",
      "|1996 |1218803   |\n",
      "|1998 |998774    |\n",
      "|2000 |1684081   |\n",
      "|2002 |1412424   |\n",
      "|2004 |2473264   |\n",
      "|2006 |1758671   |\n",
      "|2008 |3448390   |\n",
      "|2010 |1989937   |\n",
      "|2012 |3603287   |\n",
      "|2014 |1734779   |\n",
      "|2016 |675061    |\n",
      "+-----+----------+\n",
      "\n",
      "Execution Time: 0.047562360763549805 seconds\n"
     ]
    }
   ],
   "source": [
    "# using 500 partitions\n",
    "contributions_by_year_Unearmarked_Con = get_Totalcount_cycle(df_ind_Unearmarked_Con,500)"
   ]
  },
  {
   "cell_type": "markdown",
   "metadata": {},
   "source": [
    "### <img src=\"./images/Dataset-Exploration.png\" align='left' width='50'> plotting the total counts for each election cycle that doesn't have the intermediary party's earmarked contributions."
   ]
  },
  {
   "cell_type": "code",
   "execution_count": 182,
   "metadata": {},
   "outputs": [
    {
     "data": {
      "image/png": "[encoded data removed]",
      "text/plain": [
       "<Figure size 1008x432 with 1 Axes>"
      ]
     },
     "metadata": {
      "needs_background": "light"
     },
     "output_type": "display_data"
    }
   ],
   "source": [
    "plot_hisgram_pd(contributions_by_year_Unearmarked_Con, \n",
    "                \"Contributions affected by the presidential election year vs midterms\", \"cycle\", \"Totalcount\")"
   ]
  },
  {
   "cell_type": "markdown",
   "metadata": {},
   "source": [
    "### Getting tthe total counts for each election cycle that has the intermediary party's earmarked contributions."
   ]
  },
  {
   "cell_type": "code",
   "execution_count": 186,
   "metadata": {},
   "outputs": [
    {
     "name": "stdout",
     "output_type": "stream",
     "text": [
      "+-----+----------+\n",
      "|cycle|Totalcount|\n",
      "+-----+----------+\n",
      "|1990 |9497      |\n",
      "|1992 |16312     |\n",
      "|1994 |14071     |\n",
      "|1996 |22641     |\n",
      "|1998 |23483     |\n",
      "|2000 |35536     |\n",
      "|2002 |34626     |\n",
      "|2004 |54443     |\n",
      "|2006 |83826     |\n",
      "|2008 |134267    |\n",
      "|2010 |148366    |\n",
      "|2012 |234829    |\n",
      "|2014 |282832    |\n",
      "|2016 |124337    |\n",
      "+-----+----------+\n",
      "\n",
      "Execution Time: 0.12819170951843262 seconds\n"
     ]
    }
   ],
   "source": [
    "# using 100 partitions\n",
    "contributions_by_year_Earmarked_Con = get_Totalcount_cycle(df_ind_Earmarked_Con,100)"
   ]
  },
  {
   "cell_type": "code",
   "execution_count": 187,
   "metadata": {},
   "outputs": [
    {
     "name": "stdout",
     "output_type": "stream",
     "text": [
      "+-----+----------+\n",
      "|cycle|Totalcount|\n",
      "+-----+----------+\n",
      "|1990 |9497      |\n",
      "|1992 |16312     |\n",
      "|1994 |14071     |\n",
      "|1996 |22641     |\n",
      "|1998 |23483     |\n",
      "|2000 |35536     |\n",
      "|2002 |34626     |\n",
      "|2004 |54443     |\n",
      "|2006 |83826     |\n",
      "|2008 |134267    |\n",
      "|2010 |148366    |\n",
      "|2012 |234829    |\n",
      "|2014 |282832    |\n",
      "|2016 |124337    |\n",
      "+-----+----------+\n",
      "\n",
      "Execution Time: 0.021108388900756836 seconds\n"
     ]
    }
   ],
   "source": [
    "# using 200 partitions\n",
    "contributions_by_year_Earmarked_Con = get_Totalcount_cycle(df_ind_Earmarked_Con,200)"
   ]
  },
  {
   "cell_type": "markdown",
   "metadata": {},
   "source": [
    "###  <img src=\"./images/Dataset-Exploration.png\" align='left' width='50'> Plotting tthe total counts for each election cycle that has the intermediary party's earmarked contributions."
   ]
  },
  {
   "cell_type": "code",
   "execution_count": 164,
   "metadata": {},
   "outputs": [
    {
     "data": {
      "image/png": "[encoded data removed]",
      "text/plain": [
       "<Figure size 1008x432 with 1 Axes>"
      ]
     },
     "metadata": {
      "needs_background": "light"
     },
     "output_type": "display_data"
    }
   ],
   "source": [
    "plot_hisgram_pd(contributions_by_year_Earmarked_Con, \n",
    "                \"Contributions affected by the presidential election year vs midterms\", \"cycle\", \"Totalcount\")"
   ]
  },
  {
   "cell_type": "markdown",
   "metadata": {},
   "source": [
    "## <img src=\"./images/Question.png\" align='left' width='50'>  How does a donor's industry or ideology affect individual contributions?"
   ]
  },
  {
   "cell_type": "markdown",
   "metadata": {},
   "source": [
    "The 'get_Totalamounts_BybroadcastjoinTwoTab' uses broadcast joins between two tables to return the total amounts for each column of the broadcast table. "
   ]
  },
  {
   "cell_type": "code",
   "execution_count": 33,
   "metadata": {},
   "outputs": [],
   "source": [
    "\n",
    "def get_Totalamounts_BybroadcastjoinTwoTab(df_smaller, df_larger, name_col_df_smaller, name_col_df_larger):\n",
    "    # broadcast is used on 'df_politicians' beacause it is the smallest DataFrame. \n",
    "    # This will optimize the join operation by sending the smaller DataFrame to all the worker nodes. \n",
    "    df_broadcast = broadcast(df_smaller)\n",
    "    start_time = time.time()\n",
    "\n",
    "    # Perform the join operation\n",
    "    joined_df = df_larger.join(df_broadcast, \n",
    "                                          df_larger[name_col_df_larger] == df_broadcast[name_col_df_smaller],\n",
    "                                          how=\"inner\")\n",
    "    # collect the first 100 rows from the joined DataFrame\n",
    "    #result = joined_df.limit(100).collect()\n",
    "    end_time = time.time()\n",
    "\n",
    "    # Calculate the execution time\n",
    "    execution_time = end_time - start_time\n",
    "    print(\"Execution Time for broadcast join:\", execution_time, \"seconds\")\n",
    "    #------------------------------------------------------------------------\n",
    "    print(\"Getting total amounts by groupBy ......\")\n",
    "    df_res_Totalamounts  = get_Totalamounts_groupBy(joined_df, name_col_df_smaller)\n",
    "    return df_res_Totalamounts"
   ]
  },
  {
   "cell_type": "markdown",
   "metadata": {},
   "source": [
    "### Getting the total amounts for the donor's industry or ideology in individual contributions that don't have the intermediary party's earmarked contributions."
   ]
  },
  {
   "cell_type": "code",
   "execution_count": 44,
   "metadata": {},
   "outputs": [
    {
     "name": "stdout",
     "output_type": "stream",
     "text": [
      "Execution Time for broadcast join: 0.015861034393310547 seconds\n",
      "Getting total amounts by groupBy ......\n",
      "+-------------+-------------+\n",
      "|category_code|TotalAmount  |\n",
      "+-------------+-------------+\n",
      "|Y4000        |2.470164848E9|\n",
      "|X1200        |2.004489937E9|\n",
      "|K1000        |1.441010332E9|\n",
      "|F2100        |6.70385081E8 |\n",
      "|Y2000        |6.41408797E8 |\n",
      "|Y1000        |5.33780062E8 |\n",
      "|F4000        |3.70575174E8 |\n",
      "|F4100        |3.51202446E8 |\n",
      "|G0000        |3.48533911E8 |\n",
      "|H1100        |3.4819617E8  |\n",
      "|F7000        |3.3573944E8  |\n",
      "|Z9100        |3.15307072E8 |\n",
      "|K2000        |3.08231863E8 |\n",
      "|J1200        |2.94386623E8 |\n",
      "|F2600        |2.89986423E8 |\n",
      "|J1100        |2.78930945E8 |\n",
      "|H5100        |2.40169294E8 |\n",
      "|G5200        |2.3368917E8  |\n",
      "|H1130        |2.27599964E8 |\n",
      "|F1100        |2.13257682E8 |\n",
      "+-------------+-------------+\n",
      "only showing top 20 rows\n",
      "\n",
      "Execution Time: 0.11392354965209961 seconds\n"
     ]
    }
   ],
   "source": [
    "df_totalamounts_ind_Unearmarked_Con = get_Totalamounts_BybroadcastjoinTwoTab(df_industry_codes, \n",
    "                                                                           df_ind_Unearmarked_Con, \n",
    "                                                                           \"category_code\", \n",
    "                                                                           \"real_code\")"
   ]
  },
  {
   "cell_type": "markdown",
   "metadata": {},
   "source": [
    "### <img src=\"./images/Dataset-Exploration.png\" align='left' width='50'>  plotting the total amounts for the donor's industry or ideology in individual contributions that don't have the intermediary party's earmarked contributions."
   ]
  },
  {
   "cell_type": "code",
   "execution_count": 64,
   "metadata": {},
   "outputs": [
    {
     "data": {
      "image/png": "[encoded data removed]",
      "text/plain": [
       "<Figure size 1008x432 with 1 Axes>"
      ]
     },
     "metadata": {
      "needs_background": "light"
     },
     "output_type": "display_data"
    }
   ],
   "source": [
    "df_15Toptotalamounts_ind_Unearmarked_Con = df_totalamounts_ind_Unearmarked_Con.limit(15)\n",
    "plot_hisgram_pd(df_15Toptotalamounts_ind_Unearmarked_Con, \n",
    "                \"Top 15 for The donor's industry or ideology in individual contributions\", \"category_code\", \"TotalAmount\")"
   ]
  },
  {
   "cell_type": "markdown",
   "metadata": {},
   "source": [
    "### Getting the total amounts for the donor's industry or ideology in individual contributions that have the intermediary party's earmarked contributions."
   ]
  },
  {
   "cell_type": "code",
   "execution_count": 65,
   "metadata": {},
   "outputs": [
    {
     "name": "stdout",
     "output_type": "stream",
     "text": [
      "Execution Time for broadcast join: 0.008783340454101562 seconds\n",
      "Getting total amounts by groupBy ......\n",
      "+-------------+------------+\n",
      "|category_code|TotalAmount |\n",
      "+-------------+------------+\n",
      "|Z9000        |9.20710112E8|\n",
      "|Z9999        |7.29005408E8|\n",
      "|Z9500        |4.69603999E8|\n",
      "|J1200        |4.9694982E7 |\n",
      "|Y4000        |2.9975868E7 |\n",
      "|J7400        |2.7890867E7 |\n",
      "|J1100        |2.1588231E7 |\n",
      "|X1200        |2.0422564E7 |\n",
      "|K1000        |1.8206478E7 |\n",
      "|Y1000        |9915297.0   |\n",
      "|J5100        |8699406.0   |\n",
      "|Z9600        |8256512.0   |\n",
      "|H5100        |6855666.0   |\n",
      "|K2000        |5736666.0   |\n",
      "|J9000        |5461741.0   |\n",
      "|JE300        |5397436.0   |\n",
      "|J2200        |3642298.0   |\n",
      "|F2100        |3493026.0   |\n",
      "|G0000        |3101809.0   |\n",
      "|G5200        |2816166.0   |\n",
      "+-------------+------------+\n",
      "only showing top 20 rows\n",
      "\n",
      "Execution Time: 0.08104300498962402 seconds\n"
     ]
    }
   ],
   "source": [
    "df_totalamounts_ind_Earmarked_Con = get_Totalamounts_BybroadcastjoinTwoTab(df_industry_codes, \n",
    "                                                                           df_ind_Earmarked_Con, \n",
    "                                                                           \"category_code\", \n",
    "                                                                           \"real_code\")"
   ]
  },
  {
   "cell_type": "markdown",
   "metadata": {},
   "source": [
    "### <img src=\"./images/Dataset-Exploration.png\" align='left' width='50'>  plotting the total amounts for the donor's industry or ideology in individual contributions that have the intermediary party's earmarked contributions."
   ]
  },
  {
   "cell_type": "code",
   "execution_count": 66,
   "metadata": {},
   "outputs": [
    {
     "data": {
      "image/png": "[encoded data removed]",
      "text/plain": [
       "<Figure size 1008x432 with 1 Axes>"
      ]
     },
     "metadata": {
      "needs_background": "light"
     },
     "output_type": "display_data"
    }
   ],
   "source": [
    "df_15Toptotalamounts_ind_Earmarked_Con = df_totalamounts_ind_Earmarked_Con.limit(15)\n",
    "plot_hisgram_pd(df_15Toptotalamounts_ind_Earmarked_Con, \n",
    "                \"Top 15 for The donor's industry or ideology in individual contributions\", \"category_code\", \"TotalAmount\")"
   ]
  },
  {
   "cell_type": "code",
   "execution_count": null,
   "metadata": {},
   "outputs": [],
   "source": []
  }
 ],
 "metadata": {
  "kernelspec": {
   "display_name": "Python 3 (ipykernel)",
   "language": "python",
   "name": "python3"
  },
  "language_info": {
   "codemirror_mode": {
    "name": "ipython",
    "version": 3
   },
   "file_extension": ".py",
   "mimetype": "text/x-python",
   "name": "python",
   "nbconvert_exporter": "python",
   "pygments_lexer": "ipython3",
   "version": "3.10.2"
  }
 },
 "nbformat": 4,
 "nbformat_minor": 2
}
